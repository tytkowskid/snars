{
 "cells": [
  {
   "cell_type": "code",
   "execution_count": 1,
   "id": "62b2d8ad",
   "metadata": {},
   "outputs": [
    {
     "name": "stdout",
     "output_type": "stream",
     "text": [
      "pygame-ce 2.5.5 (SDL 2.32.6, Python 3.9.18)\n"
     ]
    }
   ],
   "source": [
    "import importlib\n",
    "import graphs\n",
    "from graphs import Graph, SquareLattice, GraphRenderer, CompleteGraph"
   ]
  },
  {
   "cell_type": "code",
   "execution_count": 69,
   "id": "f044173d",
   "metadata": {},
   "outputs": [],
   "source": [
    "# Reload\n",
    "importlib.reload(graphs)\n",
    "importlib.reload(graphs.graph)\n",
    "importlib.reload(graphs.renderer)\n",
    "import graphs\n",
    "from graphs import Graph, SquareLattice, GraphRenderer, CompleteGraph"
   ]
  },
  {
   "cell_type": "code",
   "execution_count": 70,
   "id": "74f1fd1f",
   "metadata": {},
   "outputs": [],
   "source": [
    "renderer = GraphRenderer()"
   ]
  },
  {
   "cell_type": "code",
   "execution_count": 75,
   "id": "df57babb",
   "metadata": {},
   "outputs": [],
   "source": [
    "squareLat = SquareLattice(3,5)\n",
    "renderer.draw(squareLat)"
   ]
  },
  {
   "cell_type": "code",
   "execution_count": 60,
   "id": "69f70852",
   "metadata": {},
   "outputs": [],
   "source": [
    "exampleWeightedGraph = Graph(4, [(1, 2, 1), (1, 3, 0.5), (0, 1, 0.1), (2, 3, 0.3), (3, 0, 0.8)])\n",
    "renderer.draw(exampleWeightedGraph)"
   ]
  },
  {
   "cell_type": "code",
   "execution_count": 78,
   "id": "ba817d08",
   "metadata": {},
   "outputs": [],
   "source": [
    "complete = CompleteGraph(7)\n",
    "renderer.draw(complete)"
   ]
  },
  {
   "cell_type": "markdown",
   "id": "a9c87483",
   "metadata": {},
   "source": [
    "### Vertices count"
   ]
  },
  {
   "cell_type": "code",
   "execution_count": 73,
   "id": "60acea0d",
   "metadata": {},
   "outputs": [
    {
     "data": {
      "text/plain": [
       "6"
      ]
     },
     "execution_count": 73,
     "metadata": {},
     "output_type": "execute_result"
    }
   ],
   "source": [
    "complete.v_count(0)"
   ]
  },
  {
   "cell_type": "code",
   "execution_count": 77,
   "id": "94e2843b",
   "metadata": {},
   "outputs": [
    {
     "data": {
      "text/plain": [
       "2"
      ]
     },
     "execution_count": 77,
     "metadata": {},
     "output_type": "execute_result"
    }
   ],
   "source": [
    "squareLat.v_count(0)"
   ]
  },
  {
   "cell_type": "markdown",
   "id": "fafd6583",
   "metadata": {},
   "source": []
  }
 ],
 "metadata": {
  "kernelspec": {
   "display_name": "genomics",
   "language": "python",
   "name": "python3"
  },
  "language_info": {
   "codemirror_mode": {
    "name": "ipython",
    "version": 3
   },
   "file_extension": ".py",
   "mimetype": "text/x-python",
   "name": "python",
   "nbconvert_exporter": "python",
   "pygments_lexer": "ipython3",
   "version": "3.9.18"
  }
 },
 "nbformat": 4,
 "nbformat_minor": 5
}
