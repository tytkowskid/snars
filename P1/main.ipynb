{
 "cells": [
  {
   "cell_type": "code",
   "execution_count": 63,
   "id": "62b2d8ad",
   "metadata": {},
   "outputs": [
    {
     "ename": "ImportError",
     "evalue": "cannot import name 'GraphRenderer' from 'graphs' (/Users/danieltytkowski/snars/graphs/__init__.py)",
     "output_type": "error",
     "traceback": [
      "\u001b[0;31m---------------------------------------------------------------------------\u001b[0m",
      "\u001b[0;31mImportError\u001b[0m                               Traceback (most recent call last)",
      "Cell \u001b[0;32mIn[63], line 3\u001b[0m\n\u001b[1;32m      1\u001b[0m \u001b[38;5;28;01mimport\u001b[39;00m\u001b[38;5;250m \u001b[39m\u001b[38;5;21;01mimportlib\u001b[39;00m\n\u001b[1;32m      2\u001b[0m \u001b[38;5;28;01mimport\u001b[39;00m\u001b[38;5;250m \u001b[39m\u001b[38;5;21;01mgraphs\u001b[39;00m\n\u001b[0;32m----> 3\u001b[0m \u001b[38;5;28;01mfrom\u001b[39;00m\u001b[38;5;250m \u001b[39m\u001b[38;5;21;01mgraphs\u001b[39;00m\u001b[38;5;250m \u001b[39m\u001b[38;5;28;01mimport\u001b[39;00m Graph, SquareLattice, GraphRenderer\n",
      "\u001b[0;31mImportError\u001b[0m: cannot import name 'GraphRenderer' from 'graphs' (/Users/danieltytkowski/snars/graphs/__init__.py)"
     ]
    }
   ],
   "source": [
    "import importlib\n",
    "import graphs\n",
    "from graphs import Graph, SquareLattice, GraphRenderer"
   ]
  },
  {
   "cell_type": "code",
   "execution_count": 64,
   "id": "f044173d",
   "metadata": {},
   "outputs": [
    {
     "name": "stdout",
     "output_type": "stream",
     "text": [
      "pygame-ce 2.5.5 (SDL 2.32.6, Python 3.9.18)\n"
     ]
    }
   ],
   "source": [
    "# Reload\n",
    "importlib.reload(graphs)\n",
    "importlib.reload(graphs.graph)\n",
    "importlib.reload(graphs.renderer)\n",
    "import graphs\n",
    "from graphs import Graph, SquareLattice, GraphRenderer"
   ]
  },
  {
   "cell_type": "code",
   "execution_count": 61,
   "id": "9fcda000",
   "metadata": {},
   "outputs": [],
   "source": [
    "es = SquareLattice(3,4)"
   ]
  },
  {
   "cell_type": "code",
   "execution_count": 62,
   "id": "3fb2b2c4",
   "metadata": {},
   "outputs": [
    {
     "data": {
      "text/plain": [
       "[(0, 1),\n",
       " (0, 4),\n",
       " (1, 2),\n",
       " (1, 5),\n",
       " (2, 3),\n",
       " (2, 6),\n",
       " (3, 7),\n",
       " (4, 5),\n",
       " (4, 8),\n",
       " (5, 6),\n",
       " (5, 9),\n",
       " (6, 7),\n",
       " (6, 10),\n",
       " (7, 11),\n",
       " (8, 9),\n",
       " (9, 10),\n",
       " (10, 11)]"
      ]
     },
     "execution_count": 62,
     "metadata": {},
     "output_type": "execute_result"
    }
   ],
   "source": [
    "es.edges"
   ]
  },
  {
   "cell_type": "code",
   "execution_count": 65,
   "id": "cb70de86",
   "metadata": {},
   "outputs": [],
   "source": [
    "renderer = GraphRenderer()"
   ]
  },
  {
   "cell_type": "code",
   "execution_count": null,
   "id": "0412a4a0",
   "metadata": {},
   "outputs": [],
   "source": [
    "renderer()"
   ]
  }
 ],
 "metadata": {
  "kernelspec": {
   "display_name": "genomics",
   "language": "python",
   "name": "python3"
  },
  "language_info": {
   "codemirror_mode": {
    "name": "ipython",
    "version": 3
   },
   "file_extension": ".py",
   "mimetype": "text/x-python",
   "name": "python",
   "nbconvert_exporter": "python",
   "pygments_lexer": "ipython3",
   "version": "3.9.18"
  }
 },
 "nbformat": 4,
 "nbformat_minor": 5
}
